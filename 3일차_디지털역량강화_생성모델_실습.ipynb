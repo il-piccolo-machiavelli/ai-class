{
  "nbformat": 4,
  "nbformat_minor": 0,
  "metadata": {
    "colab": {
      "provenance": [],
      "authorship_tag": "ABX9TyNf9toB9J7ODxDiL4IqO+n/",
      "include_colab_link": true
    },
    "kernelspec": {
      "name": "python3",
      "display_name": "Python 3"
    },
    "language_info": {
      "name": "python"
    }
  },
  "cells": [
    {
      "cell_type": "markdown",
      "metadata": {
        "id": "view-in-github",
        "colab_type": "text"
      },
      "source": [
        "<a href=\"https://colab.research.google.com/github/il-piccolo-machiavelli/ai-class/blob/main/3%EC%9D%BC%EC%B0%A8_%EB%94%94%EC%A7%80%ED%84%B8%EC%97%AD%EB%9F%89%EA%B0%95%ED%99%94_%EC%83%9D%EC%84%B1%EB%AA%A8%EB%8D%B8_%EC%8B%A4%EC%8A%B5.ipynb\" target=\"_parent\"><img src=\"https://colab.research.google.com/assets/colab-badge.svg\" alt=\"Open In Colab\"/></a>"
      ]
    },
    {
      "cell_type": "markdown",
      "source": [
        "1. 아주 간단한 빈칸 채우기 게임 만들기 (파이썬만 사용)"
      ],
      "metadata": {
        "id": "yH03o3lzjVwt"
      }
    },
    {
      "cell_type": "code",
      "source": [
        "import random\n",
        "\n",
        "sentence = [\n",
        "    \"We will look forward to seeing you in Miami.\",\n",
        "    \"If you are a witness, you will testify in court.\",\n",
        "    \"I only have to keep my head above water one more week.\",\n",
        "    \"Because the equipment is very delicate, it must be handled with care.\",\n",
        "    \"She will be arriving in London later this evening.\",\n",
        "    \"If the project is approved, we will start next Monday.\",\n",
        "    \"You should exercise caution when crossing the busy street.\",\n",
        "    \"He plans to retire by the end of next year.\",\n",
        "    \"The documents must be submitted before the deadline passes.\",\n",
        "    \"We are counting on you to complete the task on time.\",\n",
        "    \"Since the package is fragile, it should be marked accordingly.\",\n",
        "    \"They have to complete the presentation before the meeting starts.\",\n",
        "    \"We are excited to welcome you back to the team.\",\n",
        "    \"If the weather permits, we will host the event outdoors.\"\n",
        "]\n",
        "\n",
        "def parser(myText):\n",
        "  tokens = []               #문장을 분해해서 반환할 리스트\n",
        "  word = \"\"                 #한글자씩 더해서 단어로 만들 문자열\n",
        "  for char in myText:       #문자열 글자수 만큼 반복\n",
        "    if char.isalnum():      #글자가 알파벳이나 숫자인 경우\n",
        "      word += char          #word에 글자를 하나씩 더함\n",
        "    else:\n",
        "      if word:\n",
        "        tokens.append(word) #누적된 단어 추가\n",
        "        word = \"\"           #word 초기화\n",
        "      tokens.append(char)   #알파벳, 숫자 이외 추가\n",
        "  ######이 부분에 무엇을 넣어야 할까요?\n",
        "  ######이 부분에 무엇을 넣어야 할까요?\n",
        "  return tokens\n",
        "\n",
        "def wordlist(myList):  #리스트에서 랜덤 문자열을 선택, 파싱된 리스트로 반환\n",
        "  return parser(random.choice(myList))\n",
        "\n",
        "def blank(myList):\n",
        "  tokens = wordlist(myList) #리스트로 파싱된 문자열 하나에 대해서만 작업\n",
        "  words = []                #3글자 이상인 단어만 포함하는 리스트\n",
        "  for word in tokens:\n",
        "    if len(word) >= 3:\n",
        "      words.append(word)    #3글자 이상인 경우에만 리스트에 추가\n",
        "  if len(words) == 0:       #3글자 이상인 단어가 하나도 없으면 None 반환\n",
        "    return None\n",
        "  selected = random.choice(words) #3글자 이상 목록에서 랜덤한 단어 선택\n",
        "  ######선택된 단어를 언더바로 마스킹한 'masked' 변수를 선언해보세요\n",
        "  result = []               #최종 결과 리스트 준비\n",
        "  for word in tokens:\n",
        "    if word == selected:    #리스트로 파싱된 문자열에서 선택된 단어가 나오면\n",
        "      result.append(masked) #그 부분은 마스크로 대체해서 최종결과 리스트에 추가\n",
        "    else:\n",
        "      result.append(word)   #그 외에는 원래 단어 그대로 최종결과 리스트에 추가\n",
        "  return \"\".join(result), selected  #문자열과 선택된 단어 반환\n",
        "\n",
        "print(\"FILL IN THE BLANK BELOW\\n\")\n",
        "a = sentence[:]\n",
        "c = 1\n",
        "\n",
        "while 1:\n",
        "  b = blank(a)\n",
        "  if b == None:\n",
        "    ######문장을 재선택하려면 이 부분에 무엇을 넣어야 할까요?\n",
        "  else:\n",
        "    print(str(c) + '. \"' + b[0] + '\"\\n')\n",
        "    answer = input(\"Input your answer (exit:/q):\")\n",
        "    if answer == b[1]:\n",
        "      print(\"Correct!\\n\\n\")\n",
        "    elif answer == \"/q\":\n",
        "      break\n",
        "    else:\n",
        "      print(f\"Wrong! The answer is '{b[1]}'!\\n\\n\")\n",
        "    c += 1\n",
        "\n",
        "print(\"\\nThank you for playing!\")"
      ],
      "metadata": {
        "id": "odY-0-4Mj4d-"
      },
      "execution_count": null,
      "outputs": []
    },
    {
      "cell_type": "markdown",
      "source": [
        "2. 아주 간단한 챗봇 만들기 (생성모델 사용)"
      ],
      "metadata": {
        "id": "NrDhbXc1CDEg"
      }
    },
    {
      "cell_type": "code",
      "source": [
        "!pip install torch\n",
        "!pip install transformers"
      ],
      "metadata": {
        "id": "nWmedlL8CMug"
      },
      "execution_count": null,
      "outputs": []
    },
    {
      "cell_type": "code",
      "source": [
        "from transformers import pipeline\n",
        "gen = pipeline(                       #파이프라인 객체 생성\n",
        "    'text-generation',                #생성작업 유형\n",
        "    model='bigscience/bloom-560m',    #모델지정 (허깅페이스)\n",
        "    max_length=50,                    #생성되는 토큰길이 지정\n",
        "    temperature=0.7,                  #값이 높을수록 창의적 답변\n",
        "    do_sample=True,                   #랜덤샘플링으로 다양한 결과\n",
        "    truncation=True,                  #모델 최대 처리 길이 초과시 잘라냄\n",
        "    clean_up_tokenization_spaces=True #생성시 불필요한 공백 제거\n",
        ")\n",
        "\n",
        "def get_answer(prompt):\n",
        "  #prompt는 생성모델에 보내는 문자열\n",
        "  #num_return_sequences=1은 하나의 결과(리스트)만 생성하겠다는 뜻\n",
        "  #[0]은 반환된 리스트의 첫째 요소(딕셔너리)에 접근하겠다는 뜻\n",
        "  #['generated_text']는 첫째 딕셔너리의 키값에 대한 밸류값을 돌려달란 뜻\n",
        "  reply = gen(prompt,num_return_sequences=1)[0]['generated_text']\n",
        "  texts = reply.replace(\"\\n\",\" \").strip() #답변중에 개행문자가 있으면 제거\n",
        "  text = texts[len(prompt):].strip()      #입력한 프롬프트도 함께 반환되므로 제거\n",
        "  for delimiter in ['.','!','?','\\'','\"']:         #첫 문장만 사용\n",
        "    if delimiter in text:\n",
        "      text = text.split(delimiter)[0] + delimiter\n",
        "      break\n",
        "  while text and not text[0].isalpha():   #빈 문자열 아니고, 첫자가 알파벳 아닌 경우\n",
        "        ###### text에서 맨 앞글자 제외하고, 앞뒤 공백 제외하게 작성해보세요\n",
        "  if len(text.split()) < 4:               #4단어 미만 문장인 경우 다시 시도\n",
        "  ###### 다시 시도하게 하려면 이 부분을 어떻게 해야 될까요?\n",
        "  return text                             #최종 정리된 문장만 반환\n",
        "\n",
        "#미리 답변 스타일을 지정하지 않으면 통제가 어렵습니다\n",
        "#완벽하게 맥락에 맞는 답변을 하지는 못하고, 원문이 튀어나오기도 합니다\n",
        "#이것은 언어모델의 문제이지 파이썬 프로그램의 문제가 아닙니다\n",
        "preset = get_answer(\"You are my friend. Please speak in English.\")\n",
        "\n",
        "print(\"THE SIMPLEST CHATBOT (exit: /q)\")\n",
        "print(\"-\"*80)\n",
        "while 1:\n",
        "  prompt = input(\"You:\")\n",
        "  if prompt == \"/q\":\n",
        "    print(\"Bot: Bye!\")\n",
        "    break\n",
        "  answer = get_answer(prompt)\n",
        "  print(\"Bot:\" + answer + \"\\n\")"
      ],
      "metadata": {
        "id": "I1RCfwA4EAJ4"
      },
      "execution_count": null,
      "outputs": []
    },
    {
      "cell_type": "markdown",
      "source": [
        "3. 아주 간단한 빈칸 채우기 게임 만들기 (언어모델 사용)"
      ],
      "metadata": {
        "id": "B5pcdtGoYUP-"
      }
    },
    {
      "cell_type": "code",
      "source": [
        "#위의 1, 2 예제들을 모두 실행한 뒤에 실행가능합니다\n",
        "####### 이 위치에 언어모델이 보내는 응답 a를 초기화해보세요\n",
        "####### 이 위치에 문제 번호 c값을 초기화 해보세요\n",
        "\n",
        "# 아래 기본 구조는 첫째 빈칸 채우기 예제와 동일합니다\n",
        "print(\"FILL IN THE BLANK BELOW\")\n",
        "print(\"-\"*80)\n",
        "while 1:\n",
        "  print(\"Generating a new question...\\n\\n\")\n",
        "  #문장을 get_answer로 언어모델에서 받아오는 것만 다릅니다.\n",
        "  a[0] = get_answer(\"Give me one simple random quote of people.\")\n",
        "  b = blank(a)\n",
        "  if b == None:\n",
        "    continue\n",
        "  else:\n",
        "    print(str(c) + '. \"' + b[0] + '\"\\n')\n",
        "    answer = input(\"Input your answer (exit:/q):\")\n",
        "    if answer == b[1]:\n",
        "      print(\"Correct!\\n\\n\")\n",
        "    elif answer == \"/q\":\n",
        "      break\n",
        "    else:\n",
        "      print(f\"Wrong! The answer is '{b[1]}'!\\n\\n\")\n",
        "    c += 1 #문항번호 증가\n",
        "\n",
        "print(\"\\nThank you for playing!\")"
      ],
      "metadata": {
        "id": "bN1nCTWAx7OG"
      },
      "execution_count": null,
      "outputs": []
    },
    {
      "cell_type": "markdown",
      "source": [
        "4. 약간 더 게임 특성을 강화하기 (언어모델 사용)"
      ],
      "metadata": {
        "id": "-nWa5wSc1IHR"
      }
    },
    {
      "cell_type": "code",
      "source": [
        "#위의 1, 2 예제들을 모두 실행한 뒤에 실행가능합니다\n",
        "\n",
        "import time #응답시간을 측정하기 위해 time 모듈을 import\n",
        "\n",
        "a = [\"\"]\n",
        "answer = \"\"         #응답기준으로 반복하므로 초기화합니다\n",
        "total_score = 0     #총점 합산 점수\n",
        "total_question = 1  #전체 문항 수, 0으로 시작하면 0으로 나누게 됩니다\n",
        "correct_answers = 0 #맞춘 문항 수\n",
        "\n",
        "print(\"FILL IN THE BLANK BELOW\")\n",
        "print(\"-\"*80)\n",
        "\n",
        "while answer != \"/q\": #/q를 입력하면 종료합니다\n",
        "  print(\"Generating a new question...\\n\\n\")\n",
        "\n",
        "  #예문을 언어모델로 가져옵니다\n",
        "  a[0] = get_answer(\"Give me one simple random quote of people.\")\n",
        "  b = blank(a)\n",
        "  attempt = 0          #응답횟수 초기화\n",
        "  question_score = 0   #현재 문제에 대한 점수 초기화\n",
        "  start_time = 0       #시작시간 초기화\n",
        "  elapsed_time = 0     #경과시간 초기화\n",
        "  if b == None:        #언어모델이 값을 반환하지 않을 경우 다시 가져옵니다\n",
        "    continue\n",
        "  else:\n",
        "    print(f\"{total_question}. \\\"{b[0]}\\\"\\n\")\n",
        "    while answer != b[1]: #3번의 응답기회를 주기 때문에 반복문을 넣습니다\n",
        "      answer = input(\"Input your answer (exit:/q):\")\n",
        "      start_time = time.time()\n",
        "      if answer == \"/q\": #/q 입력시\n",
        "        break\n",
        "      elif answer == b[1]: #정답인 경우\n",
        "        print(\"Correct!\")\n",
        "        question_score = 3 - attempt\n",
        "        ######## 이 위치에 경과 시간 elapsed_time을 계산하는 코드를 넣어보세요\n",
        "        ######## elapsed_time이 5 이하일 경우에 question_score에 2점을 더하고\n",
        "        ######## \"You've got 2 time bonus points.\"라는 메시지를 띄우세요\n",
        "        if elapsed_time <= 5:\n",
        "          question_score += 2\n",
        "          print(\"You've got 2 time bonus points.\")\n",
        "        correct_answers += 1\n",
        "      elif answer != b[1]: #오답인 경우\n",
        "        hint = \"\"\n",
        "        if attempt == 0:\n",
        "          ####### 맨 앞글자만 보여주는 힌트를 만들어보세요\n",
        "        elif attempt == 1:\n",
        "          hint = \"*\" * (len(b[1])-2)\n",
        "          hint = b[1][0] + hint + b[1][-1]\n",
        "        else:\n",
        "          print(f\"You've used all attempts. The answer was \\'{b[1]}\\'.\")\n",
        "          break\n",
        "        print(f\"Incorrect! (hint:{hint})\")\n",
        "      attempt += 1\n",
        "    if answer != \"/q\":\n",
        "      ##########correct_answers와 total_question을 사용해서 accuracy 백분율값을 구하세요\n",
        "      total_score += question_score\n",
        "      total_question += 1\n",
        "      print(f\"You've got total {question_score} points in this round.\")\n",
        "      print(f\"Your total points are {total_score}.\")\n",
        "      print(f\"Accuracy: {accuracy:.2f}%\\n\")\n",
        "print(\"\\nThank you for playing!\")"
      ],
      "metadata": {
        "id": "5FH8BIrG1MeX"
      },
      "execution_count": null,
      "outputs": []
    }
  ]
}