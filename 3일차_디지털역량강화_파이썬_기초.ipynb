{
  "nbformat": 4,
  "nbformat_minor": 0,
  "metadata": {
    "colab": {
      "provenance": [],
      "authorship_tag": "ABX9TyMIJyOIMJ4LmJopEGN4o4tH",
      "include_colab_link": true
    },
    "kernelspec": {
      "name": "python3",
      "display_name": "Python 3"
    },
    "language_info": {
      "name": "python"
    }
  },
  "cells": [
    {
      "cell_type": "markdown",
      "metadata": {
        "id": "view-in-github",
        "colab_type": "text"
      },
      "source": [
        "<a href=\"https://colab.research.google.com/github/il-piccolo-machiavelli/ai-class/blob/main/3%EC%9D%BC%EC%B0%A8_%EB%94%94%EC%A7%80%ED%84%B8%EC%97%AD%EB%9F%89%EA%B0%95%ED%99%94_%ED%8C%8C%EC%9D%B4%EC%8D%AC_%EA%B8%B0%EC%B4%88.ipynb\" target=\"_parent\"><img src=\"https://colab.research.google.com/assets/colab-badge.svg\" alt=\"Open In Colab\"/></a>"
      ]
    },
    {
      "cell_type": "markdown",
      "source": [
        "■ 간략하게 Python 살펴보기\n",
        "\n",
        "1. 자료형"
      ],
      "metadata": {
        "id": "n1t-o-eykcO0"
      }
    },
    {
      "cell_type": "code",
      "source": [
        "data_types = [\n",
        "    10, #정수\n",
        "    3.14, #부동소수점수\n",
        "    True, #참거짓\n",
        "    \"This is a string\", #문자열\n",
        "    [1, 2, 3], #리스트\n",
        "    {'a': 1, 'b': 2}, #딕셔너리\n",
        "    {1, 2, 3}, #집합\n",
        "    (4, 5, 6) #튜플\n",
        "]\n",
        "\n",
        "for item in data_types:\n",
        "  print(f\"{type(item).__name__:5}: {item}\")"
      ],
      "metadata": {
        "id": "IqmjY7k2k4lv"
      },
      "execution_count": null,
      "outputs": []
    },
    {
      "cell_type": "markdown",
      "source": [
        "2. 숫자 자료형 및 연산자"
      ],
      "metadata": {
        "id": "1Jki3cDcnMIL"
      }
    },
    {
      "cell_type": "code",
      "source": [
        "a = 5\n",
        "b = 2\n",
        "\n",
        "print(f\"{a} + {b} = {a + b}\") #덧셈\n",
        "print(f\"{a} - {b} = {a - b}\") #뺄셈\n",
        "print(f\"{a} * {b} = {a * b}\") #곱셈\n",
        "print(f\"{a} / {b} = {a / b}\") #나눗셈\n",
        "print(f\"{a} ^ {b} = {a ** b}\") #제곱\n",
        "print(f\"{a} % {b} = {a % b}\") #나머지값\n",
        "print(f\"{a} // {b} = {a // b}\") #몫\n",
        "\n",
        "a = a + 1\n",
        "print(f\"a + 1 = {a}\")\n",
        "\n",
        "a += 1\n",
        "print(f\"a += 1 = {a}\")\n",
        "\n",
        "a -= 1\n",
        "print(f\"a -= 1 = {a}\")\n",
        "\n",
        "a *= 2\n",
        "print(f\"a *= 2 = {a}\")\n",
        "\n",
        "a /= 2\n",
        "print(f\"a /= 2 = {a}\")\n",
        "\n",
        "#정수와 부동소수점간 연산도 동일방식으로 합니다"
      ],
      "metadata": {
        "id": "10cKR8e9RB4z"
      },
      "execution_count": null,
      "outputs": []
    },
    {
      "cell_type": "markdown",
      "source": [
        "3. 문자열 자료형"
      ],
      "metadata": {
        "id": "hcMthtiYW8h_"
      }
    },
    {
      "cell_type": "code",
      "source": [
        "myString = [\n",
        "    \"' (single quote in double quotes)\",  #큰따옴표에 작은따옴표 포함\n",
        "    '\\' (single quote after \\)',          #작은따옴표에 \\' 포함\n",
        "    '\" (double quote in single quotes)',  #작은따옴표에 큰따옴표 포함\n",
        "    \"\\\" (double quote after \\)\",          #작은따옴표에 \\\" 포함\n",
        "    '\\\\ (\\ after \\)',                     #작은따옴표에 \\\\ 포함\n",
        "    \"Line1\\nLine2 starts with Line Feed\", #\\n으로 여러 문자열 표현\n",
        "'''Line1 and\n",
        "Line2 are in triple single quotes''',     #'''으로 여러 문자열 표현\n",
        "\"\"\"Line1 and\n",
        "Line2 are in triple double quotes\"\"\",     #\"\"\"으로 여러 문자열 표현\n",
        "]\n",
        "\n",
        "for item in myString:\n",
        "    print(f\"{item}\")"
      ],
      "metadata": {
        "id": "Vt7rKTPSXDtd"
      },
      "execution_count": null,
      "outputs": []
    },
    {
      "cell_type": "markdown",
      "source": [
        "4. 문자열 인덱싱 및 슬라이싱"
      ],
      "metadata": {
        "id": "7Fkl1Hml8gc1"
      }
    },
    {
      "cell_type": "code",
      "source": [
        "a = \"-\"\n",
        "b = \"Busan\"\n",
        "c = \"Institute of\"\n",
        "d = \"Tecnhology and Science\"\n",
        "e = b + \" \" + c + \" \" + d                       #문자열 더하기\n",
        "#print(\"A\" \"B\" \"C\" \"D\")                         #큰따옴표로 된 문자열은 + 연산과 동일\n",
        "print(e)\n",
        "print(a * 41)                                   #문자열 곱하기\n",
        "print(b + \" : \" + str(len(b)) + \" characters\")  #문자열 길이 세기\n",
        "print(c, \":\", str(len(c)), \"characters\")        #문자열 길이 세기, 쉼표로 띄어쓰기\n",
        "print(d, \":\", str(len(d)), \"characters\")        #문자열 길이 세기, 쉼표로 띄어쓰기\n",
        "print(a * 41)\n",
        "for row in b:     #문자열 \"Busan\"의 글자 개수 만큼 반복\n",
        "  f = b.find(row) #문자열에서 문자 위치 찾기, index()로도 가능\n",
        "  print(e[f])     #문자열에서 문자 위치의 문자 가져오기\n",
        "print(e[6:18])    #문자열 앞부터 7~18번째 문자 가져오기\n",
        "print(e[19:])     #문자열 앞부터 20번째 문자부터 출력\n",
        "print(a * 41)\n",
        "print(e[:18])     #문자열 앞부터 18번째까지 문자 가져오기\n",
        "print(e[-22])     #문자열 뒤부터 22번째 문자 가져오기\n",
        "print(e[20:-7])   #문자열 앞에서 21번째부터 뒤에서 7번째 문자까지 가져오기\n",
        "print(e[34:])     #문자열 앞에서 35번째 문자부터 출력\n",
        "print(a * 41)\n",
        "print(\"There are \" + str(c.count('t')) + \" 't's in '\" + c + \"'\") #특정 문자 세기\n",
        "print(\"/\".join(b))                            #문자 사이 기호 넣기\n",
        "print(e.lower())                              #모두 소문자로 출력\n",
        "print(e.upper())                              #모두 대문자로 출력\n",
        "print(\" strip right space \".rstrip())         #문자열 오른쪽 공백 제거\n",
        "print(\" strip left space \".lstrip())          #문자열 왼쪽 공백 제거\n",
        "print(\" strip right and left space \".strip()) #문자열 좌우 공백 제거\n",
        "print(e.replace('Busan','Seoul'))             #단어 바꾸기\n",
        "print(str(e.split()))                         #단어 분할해서 리스트로 넣기"
      ],
      "metadata": {
        "id": "igxFDEfx8jxG"
      },
      "execution_count": null,
      "outputs": []
    },
    {
      "cell_type": "markdown",
      "source": [
        "5. 문자열 포맷 코드"
      ],
      "metadata": {
        "id": "zldRUYqyopmm"
      }
    },
    {
      "cell_type": "code",
      "source": [
        "a = 1000\n",
        "b = 3.141592\n",
        "c = \"String\"\n",
        "\n",
        "myString = [\n",
        "    \"Character     : %c\" % c[0], #문자\n",
        "    \"String        : %s\" % c,    #문자열\n",
        "    \"String        : %s\" % a,    #문자열, 정수에서 자동변환\n",
        "    \"String        : %s\" % b,    #문자열, 부동소수에서 자동변환\n",
        "    \"Integer       : %d\" % a,    #정수\n",
        "    \"Floating-point: %f\" % b,    #부동소수\n",
        "    \"Binary        : \" + str(0b1111101000) + \" (\" + bin(a) + \")\", #이진표기\n",
        "    \"Octal         : \" + str(0o1750) + \" (\" + oct(a) + \")\", #8진표기\n",
        "    \"Hexadecimal   : \" + str(0x3e8) + \" (\" + hex(a) + \")\",  #16진표기\n",
        "    \"Octal         : %o\" % a,    #8진수 포맷\n",
        "    \"Hexadecimal   : %x\" % a,    #16진수 포맷, 소문자\n",
        "    \"Hexadecimal   : %X\" % a,    #16진수 포맷, 대문자\n",
        "    \"Scientific    : %e\" % b,    #지수 포맷, 소문자\n",
        "    \"Scientific    : %E\" % b,    #지수 포맷, 대문자\n",
        "    \"Probability   : %d%%\" % 95, #정수 입력시 문자열 내 퍼센트는 %%로 표시\n",
        "    \"%s\" % \"012340123401234\",\n",
        "    \"%15s\" % \"01234\",            #15칸중 01234 부분 제외하고 앞에 공백으로\n",
        "    \"01234%10s\" % \"01234\",       #01234 먼저 출력 후 10칸중 01234 제외하고 앞에 공백으로\n",
        "    \"%-10s01234\" % \"01234\",      #위와 동일하나 다르게 표기하는 방법\n",
        "    \"%0.3f\" % b,                 #소수점 표현시 자리수를 3자리로\n",
        "]\n",
        "\n",
        "for row in myString:\n",
        "  print(row)"
      ],
      "metadata": {
        "id": "CNWDAyb0ouEN"
      },
      "execution_count": null,
      "outputs": []
    },
    {
      "cell_type": "markdown",
      "source": [
        "6. 문자열 포맷 함수 및 F문자열 포맷"
      ],
      "metadata": {
        "id": "A3YY6hDm55e6"
      }
    },
    {
      "cell_type": "code",
      "source": [
        "a = 10\n",
        "b = 2.54\n",
        "c = 2\n",
        "d = 6\n",
        "\n",
        "print(\"{0} minus {1} is {2}.\".format(a, b, a - b)) #숫자 값을 가진 변수 대입\n",
        "print(\"{lecture} class starts at {time} PM.\".format(time=c, lecture='AI'))\n",
        "print(\"{lecture} class finish at {0} PM\".format(d, lecture='AI')) #혼합순서주의\n",
        "print(\"{0:<10}\".format('012345'))  #좌측정렬\n",
        "print(\"{0:^10}\".format('012345'))  #가운데정렬\n",
        "print(\"{0:>10}\".format('012345'))  #우측정렬\n",
        "print(\"{0:=<10}\".format('012345')) #좌측정렬, 빈칸채우기\n",
        "print(\"{0:+^10}\".format('012345')) #가운데정렬, 빈칸채우기\n",
        "print(\"{0:*>10}\".format('012345')) #우측정렬, 빈칸채우기\n",
        "print(\"{{ }} = {0}\".format(b))     #포맷 함수 사용시 {} 표기법\n",
        "\n",
        "cm = 1\n",
        "inch = 2.54\n",
        "volume = {'ml':1,'ounce':29.5735}  #딕셔너리 자료형\n",
        "\n",
        "print(f\"{cm} cm is {inch} inches.\")           #f문자열 포맷에서 변수 입력\n",
        "print(f\"{cm} cm is {inch:0.1f} inches.\")      #f문자열 포맷에서 소수점 조정\n",
        "print(f\"{cm * 10} cm is {inch * 10} inches.\") #f문자열 포맷에서 계산식 사용\n",
        "print(f\"{volume['ml']} ml is {volume['ounce']} ounces in U.S.\") #딕셔너리 사용\n",
        "print(f\"{'012345':<10}\")   #f문자열 포맷에서 좌측정렬\n",
        "print(f\"{'012345':^10}\")   #f문자열 포맷에서 가운데정렬\n",
        "print(f\"{'012345':>10}\")   #f문자열 포맷에서 우측정렬\n",
        "print(f\"{'012345':*<10}\")  #f문자열 포맷에서 좌측정렬, 빈칸채우기\n",
        "print(f\"{'012345':+^10}\")  #f문자열 포맷에서 가운데정렬, 빈칸채우기\n",
        "print(f\"{'012345':=>10}\")  #f문자열 포맷에서 우측정렬, 빈칸채우기\n",
        "print(f\"{{ }} = {inch}\")   #f문자열 포맷에서 {} 표기법"
      ],
      "metadata": {
        "id": "vzFyIxFp59Dq"
      },
      "execution_count": null,
      "outputs": []
    },
    {
      "cell_type": "markdown",
      "source": [
        "7. 리스트 자료형"
      ],
      "metadata": {
        "id": "KxnK4xi47nP4"
      }
    },
    {
      "cell_type": "code",
      "source": [
        "list0 = []\n",
        "list1 = list()\n",
        "list2 = [1, 2]\n",
        "list3 = [3, 4]\n",
        "list4 = [5, 6]\n",
        "list5 = [list2, list3, list4]\n",
        "list6 = [list2, [list3, list4]]\n",
        "list7 = [1, 2, [3, 4, 5, 6], 7, 8, 9, 10]\n",
        "[list8, list9] = [\"string1\", \"string2\"] #리스트를 사용해서 변수 선언하기\n",
        "print(\"list0         :\",list0)\n",
        "print(\"list1         :\",list1)\n",
        "print(\"list2         :\",list2)\n",
        "print(\"list3         :\",list3)\n",
        "print(\"list4         :\",list4)\n",
        "print(\"list5         :\",list5)\n",
        "print(\"list6         :\",list6)\n",
        "print(\"list7         :\",list7)\n",
        "print(\"list8         :\",list8)\n",
        "print(\"list9         :\",list9)\n",
        "print(\"list2[1]      :\",list2[1])        #list2의 둘째 아이템\n",
        "print(\"list3[1]      :\",list3[1])        #list3의 둘째 아이템\n",
        "print(\"list4[1]      :\",list4[1])        #list4의 둘째 아이템\n",
        "print(\"list5[2][0]   :\",list5[2][0])     #list5의 셋째 아이템의 첫째 아이템\n",
        "print(\"list6[1][0][0]:\",list6[1][0][0])  #list6의 둘째 아이템의 첫째 아이템의 첫째 아이템\n",
        "print(\"list7[4:]     :\",list7[4:])       #list7의 다섯째 아이템 이후\n",
        "print(\"list7[2][:3]  :\",list7[2][:3])    #list7의 셋째 아이템의 셋째 아이템 이전\n",
        "print(\"list2 + list3 :\",list2 + list3)   #리스트 더하기\n",
        "print(\"list2 * 3     :\",list2 * 3)       #리스트 곱하기\n",
        "print(\"list7 has\", len(list7), \"items.\") #리스트 아이템 갯수 구하기\n",
        "print(\"list7 contains number 10    :\",10 in list7)     #리스트에 특정 데이터 있나 확인\n",
        "list7[6] = 0                                           #list7의 7번째 데이터 수정\n",
        "print(\"Modify list7[6] = 0\")\n",
        "print(\"list7 not contains number 10:\",10 not in list7) #리스트에 특정 데이터 없나 확인\n",
        "print(\"list7 is now:\",list7)\n",
        "print(\"Delete item 3 of list7\")\n",
        "del list7[2] #list7의 세번째 아이템 삭제\n",
        "print(\"list7 is now:\",list7)\n",
        "print(\"Delete items over 4 of list7\")\n",
        "del list7[3:] #list7의 네번째 이후 아이템 삭제\n",
        "print(\"list7 is now:\",list7)"
      ],
      "metadata": {
        "id": "nlAIxmci_zrB"
      },
      "execution_count": null,
      "outputs": []
    },
    {
      "cell_type": "markdown",
      "source": [
        "8. 리스트 관련 함수"
      ],
      "metadata": {
        "id": "VzNvAhAFJKf5"
      }
    },
    {
      "cell_type": "code",
      "source": [
        "mylist = [2, 3, 1]\n",
        "mylist.append(4)           #리스트에 숫자 4 추가\n",
        "print(mylist)\n",
        "mylist.sort()              #리스트 정렬\n",
        "print(mylist)\n",
        "mylist.reverse()           #리스트 순서 뒤집기\n",
        "print(mylist)\n",
        "print(len(mylist))         #리스트 아이템 갯수\n",
        "print(mylist.count(2))     #리스트에 숫자 2가 몇개 들었나 세기\n",
        "print(mylist.index(2))     #리스트에 숫자 2가 몇번째에 들었나 세기 (시작=0)\n",
        "mylist.insert(2, [3, 2])   #리스트 세번째에 [3,2] 삽입\n",
        "print(mylist)\n",
        "mylist.insert(0, \"string\") #리스트 첫번째에 \"string\" 삽입\n",
        "print(mylist)\n",
        "mylist.insert(1, 2)        #리스트 두번째에 2 삽입\n",
        "print(mylist)\n",
        "mylist.remove(2)           #리스트에서 처음 나오는 2 제거\n",
        "print(mylist)\n",
        "print(mylist.pop())        #리스트 마지막 아이템 인출\n",
        "print(mylist)\n",
        "mylist.extend([4, 5])      #리스트에 리스트를 더해서 확장 (리스트끼리만 가능)\n",
        "print(mylist)"
      ],
      "metadata": {
        "id": "yCfQ67zAJRCl"
      },
      "execution_count": null,
      "outputs": []
    },
    {
      "cell_type": "markdown",
      "source": [
        "9. 딕셔너리 자료형 (=연관배열=해시)"
      ],
      "metadata": {
        "id": "e9u0CQflT29Q"
      }
    },
    {
      "cell_type": "code",
      "source": [
        "#딕셔너리이름 = {키:밸류, ...} 형태\n",
        "#키값이 중복되면 마지막 것만 인식\n",
        "#키값에는 리스트형은 사용할 수 없음 (보통 문자열)\n",
        "\n",
        "person = {\n",
        "    \"name\": \"John Doe\",\n",
        "    \"age\": 30,\n",
        "    \"phone\": \"+1-212-1234-5678\",\n",
        "    \"email\": \"john@sample.com\",\n",
        "    \"address\": {\n",
        "        \"city\": \"New York\",\n",
        "        \"street\": \"11 Wall Street\",\n",
        "        \"zipcode\": \"10005\"\n",
        "    },\n",
        "    \"marriage\": False\n",
        "}\n",
        "\n",
        "print(person)\n",
        "person[\"online\"] = False            #\"online\"이라는 키에 False라는 밸류 추가\n",
        "person[\"address\"][\"state\"] = \"NY\"   #밸류가 딕셔너리 형식인 경우\n",
        "print(person)\n",
        "del person[\"online\"]                #\"online\"이라는 키와 밸류 삭제\n",
        "del person[\"address\"][\"state\"]      #딕셔너리 형식인 밸류의 키와 밸류 삭제\n",
        "print(person)\n",
        "print(\"-\"*80)\n",
        "print(person[\"name\"])               #키값을 넣어 밸류를 얻음\n",
        "print(person[\"address\"][\"city\"])    #밸류가 딕셔너리 형식인 경우\n",
        "print(\"-\"*80)\n",
        "print(person.keys())                #키값 목록을 객체로 얻기\n",
        "print(list(person.keys()))          #키값 목록을 리스트로 얻기\n",
        "print(\"-\"*80)\n",
        "print(person.values())              #밸류값 목록을 객체로 얻기\n",
        "print(list(person.values()))        #밸류값 목록을 리스트로 얻기\n",
        "print(\"-\"*80)\n",
        "print(person.items())               #키-밸류 쌍을 튜플로 묶은 객체를 얻기\n",
        "print(list(person.items()))         #키-밸류 쌍을 튜플로 묶은 리스트를 얻기\n",
        "print(\"-\"*80)\n",
        "print(person.get(\"phone\"))                 #키값을 넣어 밸류를 얻음\n",
        "print(person.get(\"address\").get(\"street\")) #다중 get\n",
        "print(\"-\"*80)\n",
        "print(person.get(\"online\"))                #없는 키를 찾는 경우 none 반환\n",
        "print(person.get(\"online\",\"I have not.\"))  #예외처리 메시지\n",
        "try:\n",
        "    print(person[\"online\"])\n",
        "except Exception as msg:    #에러 타입 알면 except KeyError: 이런식으로 사용\n",
        "    print(\"Error:\", msg)\n",
        "print(\"Key 'name':\",\"name\" in person)\n",
        "print(\"Key 'online':\",\"online\" in person)"
      ],
      "metadata": {
        "id": "ey3fckEaT8PI"
      },
      "execution_count": null,
      "outputs": []
    },
    {
      "cell_type": "markdown",
      "source": [
        "10. 튜플 자료형"
      ],
      "metadata": {
        "id": "5c8RP3Vmg_xR"
      }
    },
    {
      "cell_type": "code",
      "source": [
        "#튜플은 요소값 삭제, 변경 불가\n",
        "tuple1 = ()\n",
        "tuple2 = (1,)\n",
        "tuple3 = (1,2,3)\n",
        "tuple4 = 1,2,3\n",
        "tuple5 = (1,2,(3,4))\n",
        "tuple6 = tuple4 + tuple5\n",
        "tuple7 = tuple4 * 3\n",
        "tuple8 = tuple7[2:5]\n",
        "\n",
        "#튜플을 사용해서 변수 선언하기\n",
        "#(tuple9, tuple10) = \"string1\", \"string2\"과 동일\n",
        "tuple9, tuple10 = (\"string1\", \"string2\")\n",
        "\n",
        "print(\"tuple1 =\", tuple1)\n",
        "print(\"tuple2 =\", tuple2)\n",
        "print(\"tuple3 =\", tuple3)\n",
        "print(\"tuple4 =\", tuple4)\n",
        "print(\"tuple5 =\", tuple5)\n",
        "print(\"tuple6 =\", tuple6)\n",
        "print(\"tuple7 =\", tuple7)\n",
        "print(\"tuple8 =\", tuple8)\n",
        "print(\"tuple9 =\", tuple9)\n",
        "print(\"tuple10 =\", tuple10)\n",
        "print(\"tuple4[1] =\", tuple4[1])\n",
        "print(\"tuple5[2][1] =\", tuple5[2][1])\n",
        "print(\"tuple7 has\", len(tuple7), \"items.\")\n",
        "print(\"tuple7 contains number 2:\",2 in tuple7)\n",
        "print(\"tuple7 contains number 4:\",4 in tuple7)"
      ],
      "metadata": {
        "id": "0xox30tXhFUj"
      },
      "execution_count": null,
      "outputs": []
    },
    {
      "cell_type": "markdown",
      "source": [
        "11. 집합 자료형"
      ],
      "metadata": {
        "id": "PlUisN3jkXC2"
      }
    },
    {
      "cell_type": "code",
      "source": [
        "#집합은 중복 비허용, 순서없음\n",
        "a = set()\n",
        "b = set([1,2,3])\n",
        "c = set({4,5,6})\n",
        "d = set(\"Hello\")\n",
        "print(a)\n",
        "print(b)\n",
        "print(c)\n",
        "print(d)\n",
        "print(list(b))             #리스트로 변환\n",
        "print(tuple(b))            #튜플로 변환\n",
        "print(list(b)[1])          #리스트로 변환 후 특정 값 가져오기\n",
        "print(tuple(b)[0])         #튜플로 변환 후 특정 값 가져오기\n",
        "print(\"-\"*50)\n",
        "s1 = set([1,2,3,4,5,6])\n",
        "s2 = set([4,5,6,7,8,9])\n",
        "print(s1 & s2)             #교집합\n",
        "print(s1.intersection(s2)) #교집합 함수\n",
        "print(s1 | s2)             #합집합\n",
        "print(s1.union(s2))        #합집합 함수\n",
        "print(s1 - s2)             #차집합\n",
        "print(s1.difference(s2))   #차집합 함수\n",
        "print(\"-\"*50)\n",
        "s1.add(7)        #한번에 하나 추가\n",
        "print(s1)\n",
        "s1.update([8,9]) #한번에 여러 요소 추가\n",
        "print(s1)\n",
        "s1.remove(7)     #한번에 하나씩만 삭제가능\n",
        "print(s1)"
      ],
      "metadata": {
        "id": "fxwR_u9ckiOB"
      },
      "execution_count": null,
      "outputs": []
    },
    {
      "cell_type": "markdown",
      "source": [
        "12. 불(Bool) 자료형"
      ],
      "metadata": {
        "id": "L8TaJKMLoZXe"
      }
    },
    {
      "cell_type": "code",
      "source": [
        "myBool = [\n",
        "    0,\n",
        "    1,\n",
        "    \"string\",\n",
        "    \"\",\n",
        "    [1,2,3],\n",
        "    [],\n",
        "    (1,2,3),\n",
        "    (),\n",
        "    {\"key\":\"value\"},\n",
        "    {},\n",
        "    None\n",
        "]\n",
        "\n",
        "print(myBool[0] == myBool[1])\n",
        "print(myBool[0] > myBool[1])\n",
        "print(myBool[0] < myBool[1])\n",
        "print(\"-\"*50)\n",
        "for item in myBool:\n",
        "    if bool(item):\n",
        "        print(f\"{item} is True\")\n",
        "    else:\n",
        "        print(f\"{item} is False\")"
      ],
      "metadata": {
        "id": "Ee9GYxsKocfu"
      },
      "execution_count": null,
      "outputs": []
    },
    {
      "cell_type": "markdown",
      "source": [
        "13. 변수 선언 및 값 복사"
      ],
      "metadata": {
        "id": "j-T0Dpzdq6Di"
      }
    },
    {
      "cell_type": "code",
      "source": [
        "a = [1,2,3]\n",
        "b = a\n",
        "\n",
        "print(\"a = \", a, \"(\" + str(id(a)) + \")\")\n",
        "print(\"b = \", b, \"(\" + str(id(b)) + \")\")\n",
        "\n",
        "if a == b:\n",
        "   print(\"a is equal to b\")\n",
        "else:\n",
        "   print(\"a is not equal to b\")\n",
        "\n",
        "if id(a) == id(b):\n",
        "   print(\"a and b have the same memory address\")\n",
        "else:\n",
        "   print(\"a and b have different memory addresses\")\n",
        "\n",
        "if a is b: #동일 주소를 가리키는 동일 객체인지 검사\n",
        "   print(\"a is the same object as b\")\n",
        "else:\n",
        "   print(\"a is not the same object as b\")\n",
        "\n",
        "print(\"\\nChange a[1] to 255\")\n",
        "a[1] = 255\n",
        "\n",
        "print(\"a = \", a, \"(\" + str(id(a)) + \")\")\n",
        "print(\"b = \", b, \"(\" + str(id(b)) + \")\")\n",
        "\n",
        "print(\"\\nCopy a to b\")\n",
        "b = a[:]\n",
        "\n",
        "print(\"Change b[2] to 0\")\n",
        "b[2] = 0\n",
        "\n",
        "print(\"a = \", a, \"(\" + str(id(a)) + \")\")\n",
        "print(\"b = \", b, \"(\" + str(id(b)) + \")\")\n",
        "\n",
        "from copy import copy\n",
        "print(\"\\nCopy a to c\")\n",
        "c = copy(a)\n",
        "\n",
        "print(\"Change c[1] to 0\")\n",
        "c[1] = 0\n",
        "\n",
        "print(\"a = \", a, \"(\" + str(id(a)) + \")\")\n",
        "print(\"c = \", c, \"(\" + str(id(c)) + \")\")\n",
        "\n",
        "a = b = c = [4,5,6]\n",
        "print(\"\\nDeclare 'a = b = c = [4,5,6]'\")\n",
        "print(\"a = \", a, \"(\" + str(id(a)) + \")\")\n",
        "print(\"b = \", b, \"(\" + str(id(b)) + \")\")\n",
        "print(\"c = \", c, \"(\" + str(id(c)) + \")\")"
      ],
      "metadata": {
        "id": "h47-r7GlrBoC"
      },
      "execution_count": null,
      "outputs": []
    },
    {
      "cell_type": "markdown",
      "source": [
        "14. 제어문"
      ],
      "metadata": {
        "id": "ymOlHbrnDEL2"
      }
    },
    {
      "cell_type": "code",
      "source": [
        "a = b = 3\n",
        "c = 4\n",
        "#조건부 표현식 (한줄쓰기)\n",
        "print(\"a and b is\", \"equal\" if a == b else \"not equal\")\n",
        "print(\"a and c is\", \"equal\" if a == c else \"not equal\")\n",
        "print(\"a is\", \"greater than b\" if a > b else \"not greater than b\")\n",
        "print(\"a is\", \"smaller than b\" if a < b else \"not smaller than b\")\n",
        "print(\"a is\", \"greater than or equal to b\" if a >= b else \"not greater than or equal to b\")\n",
        "print(\"a is\", \"smaller than or equal to b\" if a <= b else \"not smaller to or equal to b\")\n",
        "print(\"a is\", \"not equal to b\" if a != b else \"equal to b\")\n",
        "print(\"b is\", \"greater than c\" if b > c else \"not greater than c\")\n",
        "print(\"b is\", \"smaller than c\" if b < c else \"not smaller than c\")\n",
        "print(\"b is\", \"greater than or equal to c\" if b >= c else \"not greater than or equal to c\")\n",
        "print(\"b is\", \"smaller than or equal to c\" if b <= c else \"not smaller to or equal to c\")\n",
        "print(\"b is\", \"not equal to c\" if b != c else \"equal to c\")\n",
        "\n",
        "#논리 비교\n",
        "print(\"\") #print 마지막 글자는 기본값이 \\n임. 바꾸려면 end='문자'\n",
        "print(\"True\" if 0 or 1 else \"False\")  #or 앞뒤로 하나라도 참이면 참\n",
        "print(\"True\" if 0 and 1 else \"False\") #and 앞뒤로 모두 참이면 참\n",
        "print(\"True\" if not 0 else \"False\")   #not 뒤로 참이면 거짓, 거짓이면 참\n",
        "\n",
        "#in, not in 조건\n",
        "a = [1,2,3]\n",
        "b = (1,2,3)\n",
        "c = \"1234\"\n",
        "print(\"\")\n",
        "print(\"2 is in the list\" if 2 in a else \"2 is not in the list\")\n",
        "print(\"3 is not in the tuple\" if 3 not in b else \"3 is in the tuple\")\n",
        "print(\"4 is in the string\" if \"4\" in c else \"4 is not in the string\")\n",
        "\n",
        "#조건문 블록 (들여쓰기)\n",
        "print(\"\")\n",
        "a = input(\"Input a:\")              #사용자가 직접 숫자 입력, 문자열로 반환\n",
        "b = input(\"Input b:\")              #변수 = input(프롬프트문자열)\n",
        "if a == b:\n",
        "    print(\"case 1:\")\n",
        "    print(\"'a is equal to b'\")     #조건에 따라 여러 줄도 실행 가능\n",
        "elif a > b:                        #타 언어의 else if와 동일\n",
        "    print(\"case 2:\")\n",
        "    print(\"'a is greater than b'\")\n",
        "else:\n",
        "    print(\"case 3:\")\n",
        "    print(\"'a is smaller than b'\")"
      ],
      "metadata": {
        "id": "XRsBW3z7DMYL"
      },
      "execution_count": null,
      "outputs": []
    },
    {
      "cell_type": "markdown",
      "source": [
        "15. 반복문"
      ],
      "metadata": {
        "id": "F6M2zKbfqrwo"
      }
    },
    {
      "cell_type": "code",
      "source": [
        "#while 뒤 값이 참일때 반복\n",
        "values = [1, 2, -1, 3, -2, 4]\n",
        "index = 0\n",
        "\n",
        "while index < len(values):             #index가 리스트 길이보다 작을때 반복\n",
        "    if values[index] < 0:              #음수는 건너뛰고 반복\n",
        "        index += 1\n",
        "        continue\n",
        "    print(f\"Value: {values[index]}\")\n",
        "    if values[index] == 3:             #값이 3이면 즉시 반복 종료\n",
        "        print(\"Break: the value is 3\")\n",
        "        break\n",
        "    index += 1\n",
        "\n",
        "print(\"\")\n",
        "\n",
        "#for 변수 in 리스트 or 튜플 or 문자열\n",
        "for item in values:                    #리스트 길이만큼 반복, item에 리스트 값이 자동 대입\n",
        "    if item < 0:                       #음수는 건너뛰고 반복\n",
        "        continue\n",
        "    print(f\"Value: {item}\")\n",
        "    if item == 3:                      #값이 3이면 즉시 반복 종료\n",
        "        print(\"Break: the value is 3\")\n",
        "        break\n",
        "\n",
        "print(\"\")\n",
        "\n",
        "#range()로 12단 출력\n",
        "for i in range(12,13):\n",
        "    for j in range(1,10):\n",
        "        print(f\"{i} x {j} = {i*j}\")\n",
        "    print(\"\")\n",
        "\n",
        "#리스트 컴프리핸션 표현\n",
        "mylist = [1,2,3,4,5,6,7,8,9,0]                      #1줄\n",
        "result = []                                         #2줄\n",
        "for item in mylist:                                 #3줄\n",
        "  result.append(item*2)                             #4줄\n",
        "print(result)                                       #5줄\n",
        "print([item*2 for item in mylist])                  #5줄을 한줄로 표현\n",
        "print([item*2 for item in mylist if item % 2 == 0]) #조건문까지 한줄에 표현"
      ],
      "metadata": {
        "id": "MeM-bDXeq7KN"
      },
      "execution_count": null,
      "outputs": []
    },
    {
      "cell_type": "markdown",
      "source": [
        "16. 함수"
      ],
      "metadata": {
        "id": "liyrNb5C0SLT"
      }
    },
    {
      "cell_type": "code",
      "source": [
        "def return_hello():                    #매개변수 없는 함수\n",
        "  return \"hello\"\n",
        "\n",
        "def print_hello_to(name):              #리턴값 없는 함수\n",
        "  print(\"hello\", name)\n",
        "\n",
        "def print_hello():                     #매개변수도 없고 리턴값도 없는 함수\n",
        "  print(\"hello\")\n",
        "\n",
        "print(return_hello())\n",
        "print_hello_to(\"John\")\n",
        "print_hello()\n",
        "\n",
        "def selfIntro(name,age,gender=\"male\"): #매개변수 초기값 설정\n",
        "  print(\"\\nMy name is %s\" % name)\n",
        "  print(\"I am %d years old\" % age)\n",
        "  if gender == \"male\":\n",
        "    print(\"I am a man\")\n",
        "  else:\n",
        "    print(\"I am not a man\")\n",
        "\n",
        "selfIntro(\"John\", 30)\n",
        "selfIntro(\"Mike\", 45, \"male\")\n",
        "selfIntro(\"Mary\", 25, \"female\")\n",
        "print(\"\")\n",
        "\n",
        "def substract(a, b):\n",
        "  return a - b\n",
        "print(substract(10, 5))           #인수만 입력, 순서가 맞아야 함\n",
        "print(substract(b=10, a=5))       #매개변수 지정, 순서 달라도 됨\n",
        "print(\"\")\n",
        "\n",
        "def multi_args(*args):            #인수를 제한없이 입력\n",
        "  result = 0                      #함수내 변수는 함수내에서만 global 사용 자제\n",
        "  for arg in args:\n",
        "    result += arg\n",
        "  return result\n",
        "print(multi_args(1,2,3,4,5))\n",
        "print(multi_args(1,2,3,4,5,6,7,8,9,10))\n",
        "print(\"\")\n",
        "\n",
        "def keyword_args(**kwargs):       #키워드 매개변수, 딕셔너리 형식 언패킹에 활용\n",
        "  print(kwargs)\n",
        "keyword_args(a=1)\n",
        "keyword_args(name=\"John\", age=30)\n",
        "print(\"\")\n",
        "\n",
        "result = lambda a, b, c: a+b-c    #한줄로 함수 만드는 방법\n",
        "print(result(1,2,3))\n",
        "print(\"\")"
      ],
      "metadata": {
        "id": "HOzgXzFQ0stK"
      },
      "execution_count": null,
      "outputs": []
    },
    {
      "cell_type": "markdown",
      "source": [
        "17. 클래스, 모듈, 패키지\n",
        "*   클래스 구조는 객체의 속성과 동작을 정의하는 템플릿\n",
        "*   모듈은 클래스, 함수, 그 외 일반 코드 등 재사용 가능한 코드가 담긴 단일 파이썬 파일\n",
        "*   패키지는 모듈을 디렉토리 구조로 묶은 코드 집합\n",
        "*   라이브러리는 여러 모듈과 패키지를 포함한 재사용 가능한 코드 모음"
      ],
      "metadata": {
        "id": "WrDQr9rV2paG"
      }
    },
    {
      "cell_type": "code",
      "source": [
        "class nothing1:                  #class 선언방법\n",
        "  pass                           #아무 작업도 안할때, 형식 유지용\n",
        "\n",
        "class nothing2():                #class 선언방법 (부모 클래스 명시할 때)\n",
        "  pass\n",
        "\n",
        "class parent_class:\n",
        "  class_var = None               #클래스 속성, 모든 인스턴스 공유\n",
        "\n",
        "  def __init__(self):            #생성자, 객체 생성시 자동 호출되는 매서드\n",
        "    self.var = None              #인스턴스 속성, 각 객체 공유\n",
        "    pass\n",
        "\n",
        "  def nothing1(self):            #self는 자기자신 참조, 필수로 첫 매개변수로 넣어야 함\n",
        "    print(\"parent class method: nothing1\")\n",
        "\n",
        "  def nothing2(self):\n",
        "    print(\"parent class method: nothing2\")\n",
        "\n",
        "class child_class(parent_class):              #클래스 상속\n",
        "  def nothing2(self):                         #부모 매서드 오버라이드\n",
        "    print(\"child class overriding: nothing2\")\n",
        "    #super().nothing2()                       #주석 지우고 테스트 해보세요\n",
        "\n",
        "  def nothing3(self):\n",
        "    print(\"child class method: nothing3\")\n",
        "\n",
        "# 일반적으로 들여쓰기 없는 행이 main()으로 간주되나,\n",
        "# 모듈로 임포트해서 사용하는 경우에는 main()으로 사용되면 안되므로\n",
        "# main()을 별도의 함수로 정의해서, 스크립트가 직접 실행될때만 사용함\n",
        "def main():\n",
        "  a = parent_class()             #객체 생성, a는 parent_class()의 인스턴스 객체\n",
        "  a.nothing1()                   #parent_class의 nothing1 매서드 호출\n",
        "  a.nothing2()                   #parent_class의 nothing2 매서드 호출\n",
        "  print(\"\")\n",
        "  b = child_class()              #객체 생성, b는 child_class()의 인스턴스 객체\n",
        "  b.nothing1()                   #child_class의 nothing1 매서드 호출\n",
        "  b.nothing2()                   #child_class의 nothing2 매서드 호출\n",
        "  b.nothing3()                   #child_class의 nothing3 매서드 호출\n",
        "\n",
        "if __name__ == \"__main__\":       #스크립트가 직접 실행될때 main() 호출\n",
        "  main()"
      ],
      "metadata": {
        "id": "ZJQXL8tpCKDU"
      },
      "execution_count": null,
      "outputs": []
    },
    {
      "cell_type": "code",
      "source": [
        "!pip install ColabTurtlePlus                #외부 패키지 ColabTurtlePlus 설치\n",
        "import random                               #import 모듈이름\n",
        "from ColabTurtlePlus.Turtle import *        #from 모듈이름 import 특정대상이름\n",
        "\n",
        "#부모클래스 (다각형 그리기)\n",
        "class Polygon:\n",
        "  def __init__(self, sides, size, angle=0, color=\"black\"):\n",
        "    self.sides = sides\n",
        "    self.size = size\n",
        "    self.angle = angle\n",
        "    self.color = color\n",
        "\n",
        "  def draw(self, turtle):\n",
        "    turtle.penup()                          #터틀 이동시 선 안그음\n",
        "    turtle.setheading(self.angle)           #터틀 이동 각도 조절\n",
        "    turtle.pendown()                        #터틀 이동시 선 그음\n",
        "    turtle.pencolor(self.color)             #터틀 이동 시 펜 색 지정\n",
        "    for _ in range(self.sides):             #반복만 원할 때, 변수대신 _로 표현\n",
        "      turtle.forward(self.size)             #현재 각도로 인수로 입력된 거리만큼 전진\n",
        "      turtle.left(360/self.sides)           #인수로 입력된 각도로 좌회전\n",
        "\n",
        "#자식클래스 (오각형 그리기)\n",
        "class Pentagon(Polygon):\n",
        "  def __init__(self, size=None, angle=None, bg_color=\"lightblue\"):\n",
        "    size = size or random.randint(20, 80)                          #None이면 랜덤지정\n",
        "    angle = angle or random.randint(0, 360)                        #None이면 랜덤지정\n",
        "    color = self.random_color(bg_color)                            #랜덤지정\n",
        "    super().__init__(sides=5, size=size, angle=angle, color=color) #오각형으로 초기화\n",
        "\n",
        "  def random_color(self, bg_color):\n",
        "    colors = ['red', 'blue', 'green', 'purple', 'white']\n",
        "    colors.remove(bg_color) if bg_color in colors else None  #인수 색상 제외\n",
        "    return random.choice(colors)\n",
        "\n",
        "  def draw(self, turtle):\n",
        "    super().draw(turtle)                    #부모 클래스의 draw 메서드 사용\n",
        "    turtle.penup()\n",
        "    turtle.goto(random.randint(-100, 100), random.randint(-100, 100))\n",
        "    turtle.pendown()\n",
        "\n",
        "#오각형을 임의의 위치에 여러개 생성하는 함수\n",
        "def gen_penta(reply, bg_color):\n",
        "  a = Turtle()  #a는 ColabTurtlePlus 패키지의 Turtle() 클래스의 인스턴스 객체\n",
        "  for _ in range(reply): #오각형을 입력 인수 만큼 반복해서 생성\n",
        "    pentagon = Pentagon(bg_color=bg_color)\n",
        "    pentagon.draw(a)\n",
        "\n",
        "bgc = \"lightblue\"\n",
        "reply = input(\"How many pentagons do you want to draw?: (Deault:5)\")\n",
        "if reply.isdigit():\n",
        "  reply = int(reply) if int(reply) > 0 else 5 #0이나 그 이하일 경우 기본값\n",
        "else:\n",
        "  reply = int(5)      #문자, 공백 등 입력시 기본값\n",
        "\n",
        "clearscreen()         #이미지 초기화\n",
        "setup(400,400)        #이미지 크기 지정\n",
        "bgcolor(bgc)          #배경색 지정\n",
        "speed(3)              #터틀 이동속도 지정\n",
        "gen_penta(reply, bgc) #생성 갯수, 제외 색상 지정"
      ],
      "metadata": {
        "id": "1TCaaK8gHIdb"
      },
      "execution_count": null,
      "outputs": []
    }
  ]
}